{
 "cells": [
  {
   "cell_type": "code",
   "execution_count": 1,
   "metadata": {},
   "outputs": [],
   "source": [
    "import matplotlib.pyplot as plt\n",
    "import pandas as pd\n",
    "import numpy as np\n",
    "from numpy import pi\n",
    "import os, sys\n",
    "#from tftb.generators import anapulse\n",
    "#from pywt import cwt #pywavelets for scalograms\n",
    "import argparse\n",
    "\n",
    "from scipy import signal\n",
    "#from scipy.signal import cwt, ricker, morlet\n",
    "import pywt"
   ]
  },
  {
   "cell_type": "code",
   "execution_count": 2,
   "metadata": {},
   "outputs": [],
   "source": [
    "def compute_intervals(filename):\n",
    "    ts = pd.read_csv(filename, header=None)\n",
    "    X = ts[0]\n",
    "    y = ts[1]\n",
    "    X = X.values\n",
    "    intervals = []\n",
    "    for i in range(0, len(X)-1):\n",
    "        intervals.append(X[i+1]-X[i])\n",
    "    #print(intervals)\n",
    "    #print(len(intervals))\n",
    "    return(intervals)\n"
   ]
  },
  {
   "cell_type": "code",
   "execution_count": 29,
   "metadata": {},
   "outputs": [],
   "source": [
    "def scaleogram(filename):\n",
    "\n",
    "    #still needs some work as there are multiple libraries we can use to create scaleograms\n",
    "    \n",
    "    print(\"Creating scaleogram\")\n",
    "    ts = pd.read_csv(filename, header=None)\n",
    "    \n",
    "    #X is some sort of time value, original dataset does not start at 0\n",
    "    #Y value is (assumedly) dependent variable\n",
    "    X = ts[0]\n",
    "    y = ts[1]\n",
    "   \n",
    "    #index 9 is for X of \"data/raw/\"X-blah.format\"\n",
    "    fn = filename[9:]\n",
    "    label = 0 if fn[0] == \"A\" else 1\n",
    "    new_filename = \"data/images/scaleograms/\"+fn[:-4]+\".png\"\n",
    "    \n",
    "    #signal length = 8100\n",
    "    #sampling frequency =~~~~ 375. It's variable..\n",
    "    \n",
    "    sig = y.values\n",
    "    #Fs = 128   \n",
    "    #t0 = 0.0\n",
    "    #t1 = 60.0  \n",
    "    #t = np.linspace(0, 1, 128, endpoint=False)\n",
    "    \n",
    "    #maybe widths is the distances btwn x points? like variable sampling freq\n",
    "    widths = np.logspace(-1.2, 4, num=300, base=10.0) #most similar to MATLAB results\n",
    "    #cwtmatr = cwt(sig, ricker, widths) \n",
    "    cwtmatr, freqs = pywt.cwt(sig, widths, 'morl')\n",
    "    \n",
    "    pd.DataFrame(cwtmatr).to_csv(fn[:-4]+\"_scale.csv\")\n",
    "\n",
    "    plt.figure(figsize=(20,10))\n",
    "    fig = plt.imshow(abs(cwtmatr), cmap='jet', aspect='auto')#, vmax=abs(cwtmatr).max(), vmin=-abs(cwtmatr).max())    \n",
    "    #plt.figure(figsize=(4.32,2.88))\n",
    "    \n",
    "    #get rid of axis and whitespace for cNN algorithm\n",
    "    plt.axis('off')\n",
    "    fig.axes.get_xaxis().set_visible(False)\n",
    "    fig.axes.get_yaxis().set_visible(False)\n",
    "    plt.savefig(new_filename, bbox_inches='tight', pad_inches = 0)\n",
    "    plt.clf()\n",
    "    \n",
    "    \n",
    "    return (fn[:-4]+\".png\", label)\n"
   ]
  },
  {
   "cell_type": "code",
   "execution_count": 30,
   "metadata": {},
   "outputs": [],
   "source": [
    "def plot_time_series(filename):\n",
    "    print(\"Creating plot\")\n",
    "    ts = pd.read_csv(filename, header=None)\n",
    "    X = ts[0]\n",
    "    y = ts[1]\n",
    "    fn = filename[9:]\n",
    "    label = 0 if fn[0] == \"A\" else 1\n",
    "    new_filename = \"data/images/plots/\"+fn[:-4]+\".png\"\n",
    "    \n",
    "    plt.figure(figsize=(20,10))\n",
    "    plt.plot(X, y)\n",
    "    plt.savefig(new_filename)\n",
    "    plt.clf()\n",
    "    \n",
    "    return (fn[:-4]+\".png\", label)"
   ]
  },
  {
   "cell_type": "code",
   "execution_count": 31,
   "metadata": {},
   "outputs": [],
   "source": [
    "def plot_all(raw_dir, final_dir, plot):\n",
    "    print(\"Creating with method \" + plot.__name__)\n",
    "    data = []\n",
    "\n",
    "    for filename in os.listdir(raw_dir):\n",
    "        if filename.endswith(\".csv\"):\n",
    "            tpl = plot(raw_dir+filename)\n",
    "            data.append(tpl)\n",
    "            data.append(tpl) #second append for small data issuse\n",
    "    data = pd.DataFrame(data, columns=[\"filename\", \"label\"])\n",
    "    data.to_csv(final_dir+\"images.csv\", index=False)\n"
   ]
  },
  {
   "cell_type": "code",
   "execution_count": 32,
   "metadata": {},
   "outputs": [
    {
     "name": "stdout",
     "output_type": "stream",
     "text": [
      "Creating with method scaleogram\n",
      "Creating scaleogram\n",
      "Creating scaleogram\n",
      "Creating scaleogram\n",
      "Creating scaleogram\n",
      "Creating scaleogram\n",
      "Creating scaleogram\n",
      "Creating scaleogram\n",
      "Creating scaleogram\n",
      "Creating scaleogram\n",
      "Creating scaleogram\n",
      "Creating scaleogram\n",
      "Creating scaleogram\n",
      "Creating scaleogram\n",
      "Creating scaleogram\n",
      "Creating scaleogram\n"
     ]
    },
    {
     "data": {
      "text/plain": [
       "<Figure size 1440x720 with 0 Axes>"
      ]
     },
     "metadata": {},
     "output_type": "display_data"
    },
    {
     "data": {
      "text/plain": [
       "<Figure size 1440x720 with 0 Axes>"
      ]
     },
     "metadata": {},
     "output_type": "display_data"
    },
    {
     "data": {
      "text/plain": [
       "<Figure size 1440x720 with 0 Axes>"
      ]
     },
     "metadata": {},
     "output_type": "display_data"
    },
    {
     "data": {
      "text/plain": [
       "<Figure size 1440x720 with 0 Axes>"
      ]
     },
     "metadata": {},
     "output_type": "display_data"
    },
    {
     "data": {
      "text/plain": [
       "<Figure size 1440x720 with 0 Axes>"
      ]
     },
     "metadata": {},
     "output_type": "display_data"
    },
    {
     "data": {
      "text/plain": [
       "<Figure size 1440x720 with 0 Axes>"
      ]
     },
     "metadata": {},
     "output_type": "display_data"
    },
    {
     "data": {
      "text/plain": [
       "<Figure size 1440x720 with 0 Axes>"
      ]
     },
     "metadata": {},
     "output_type": "display_data"
    },
    {
     "data": {
      "text/plain": [
       "<Figure size 1440x720 with 0 Axes>"
      ]
     },
     "metadata": {},
     "output_type": "display_data"
    },
    {
     "data": {
      "text/plain": [
       "<Figure size 1440x720 with 0 Axes>"
      ]
     },
     "metadata": {},
     "output_type": "display_data"
    },
    {
     "data": {
      "text/plain": [
       "<Figure size 1440x720 with 0 Axes>"
      ]
     },
     "metadata": {},
     "output_type": "display_data"
    },
    {
     "data": {
      "text/plain": [
       "<Figure size 1440x720 with 0 Axes>"
      ]
     },
     "metadata": {},
     "output_type": "display_data"
    },
    {
     "data": {
      "text/plain": [
       "<Figure size 1440x720 with 0 Axes>"
      ]
     },
     "metadata": {},
     "output_type": "display_data"
    },
    {
     "data": {
      "text/plain": [
       "<Figure size 1440x720 with 0 Axes>"
      ]
     },
     "metadata": {},
     "output_type": "display_data"
    },
    {
     "data": {
      "text/plain": [
       "<Figure size 1440x720 with 0 Axes>"
      ]
     },
     "metadata": {},
     "output_type": "display_data"
    },
    {
     "data": {
      "text/plain": [
       "<Figure size 1440x720 with 0 Axes>"
      ]
     },
     "metadata": {},
     "output_type": "display_data"
    }
   ],
   "source": [
    "visualization_types = {\"plot\": plot_time_series, \"scaleogram\": scaleogram}\n",
    "\n",
    "plot_all(\"data/raw/\", \"data/compiled/\", scaleogram)"
   ]
  },
  {
   "cell_type": "code",
   "execution_count": null,
   "metadata": {},
   "outputs": [],
   "source": []
  },
  {
   "cell_type": "code",
   "execution_count": null,
   "metadata": {},
   "outputs": [],
   "source": []
  },
  {
   "cell_type": "code",
   "execution_count": null,
   "metadata": {},
   "outputs": [],
   "source": []
  }
 ],
 "metadata": {
  "kernelspec": {
   "display_name": "Python 3",
   "language": "python",
   "name": "python3"
  },
  "language_info": {
   "codemirror_mode": {
    "name": "ipython",
    "version": 3
   },
   "file_extension": ".py",
   "mimetype": "text/x-python",
   "name": "python",
   "nbconvert_exporter": "python",
   "pygments_lexer": "ipython3",
   "version": "3.7.3"
  }
 },
 "nbformat": 4,
 "nbformat_minor": 2
}
