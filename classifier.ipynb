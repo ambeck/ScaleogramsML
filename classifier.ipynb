{
 "cells": [
  {
   "cell_type": "code",
   "execution_count": 1,
   "metadata": {},
   "outputs": [],
   "source": [
    "from keras.models import Sequential\n",
    "from keras.layers import Conv2D\n",
    "from keras.layers import MaxPooling2D\n",
    "from keras.layers import Flatten\n",
    "from keras.layers import Dense\n"
   ]
  },
  {
   "cell_type": "code",
   "execution_count": 2,
   "metadata": {},
   "outputs": [],
   "source": [
    "from keras.preprocessing.image import ImageDataGenerator"
   ]
  },
  {
   "cell_type": "code",
   "execution_count": 3,
   "metadata": {},
   "outputs": [],
   "source": [
    "train_datagen = ImageDataGenerator()\n",
    "\n",
    "test_datagen = ImageDataGenerator()"
   ]
  },
  {
   "cell_type": "code",
   "execution_count": 14,
   "metadata": {},
   "outputs": [
    {
     "name": "stdout",
     "output_type": "stream",
     "text": [
      "Found 12 images belonging to 2 classes.\n"
     ]
    }
   ],
   "source": [
    "#432 x 288\n",
    "#switched from 64x64\n",
    "\n",
    "training_set = train_datagen.flow_from_directory(\n",
    "                                            'data/compiled/train',\n",
    "                                            target_size = (256,256),\n",
    "                                            batch_size = 12,\n",
    "                                            class_mode = 'binary')"
   ]
  },
  {
   "cell_type": "code",
   "execution_count": 15,
   "metadata": {},
   "outputs": [
    {
     "name": "stdout",
     "output_type": "stream",
     "text": [
      "Found 3 images belonging to 2 classes.\n"
     ]
    }
   ],
   "source": [
    "test_set = test_datagen.flow_from_directory('data/compiled/test',\n",
    "                                            target_size = (256,256),\n",
    "                                            batch_size = 3,\n",
    "                                            class_mode = 'binary')"
   ]
  },
  {
   "cell_type": "code",
   "execution_count": 16,
   "metadata": {},
   "outputs": [
    {
     "name": "stderr",
     "output_type": "stream",
     "text": [
      "/home/adam/.local/lib/python3.7/site-packages/tensorflow/python/keras/engine/training.py:1844: UserWarning: `Model.fit_generator` is deprecated and will be removed in a future version. Please use `Model.fit`, which supports generators.\n",
      "  warnings.warn('`Model.fit_generator` is deprecated and '\n"
     ]
    },
    {
     "name": "stdout",
     "output_type": "stream",
     "text": [
      "Epoch 1/4\n",
      " 1/16 [>.............................] - ETA: 14s - loss: 0.9207 - accuracy: 0.5000WARNING:tensorflow:Your input ran out of data; interrupting training. Make sure that your dataset or generator can generate at least `steps_per_epoch * epochs` batches (in this case, 64 batches). You may need to use the repeat() function when building your dataset.\n",
      "WARNING:tensorflow:Your input ran out of data; interrupting training. Make sure that your dataset or generator can generate at least `steps_per_epoch * epochs` batches (in this case, 4 batches). You may need to use the repeat() function when building your dataset.\n",
      "16/16 [==============================] - 1s 15ms/step - loss: 0.9207 - accuracy: 0.5000 - val_loss: 2.4448 - val_accuracy: 0.6667\n"
     ]
    },
    {
     "data": {
      "text/plain": [
       "<tensorflow.python.keras.callbacks.History at 0x7f4a2577e208>"
      ]
     },
     "execution_count": 16,
     "metadata": {},
     "output_type": "execute_result"
    }
   ],
   "source": [
    "reseau = Sequential()\n",
    "\n",
    "# 1. convolution\n",
    "reseau.add(Conv2D(32, (3, 3), input_shape = (256,256, 3), activation = 'relu'))\n",
    "reseau.add(MaxPooling2D(pool_size = (2, 2)))\n",
    "reseau.add(Conv2D(32, (3, 3), activation = 'relu'))\n",
    "reseau.add(MaxPooling2D(pool_size = (2, 2)))\n",
    "reseau.add(Conv2D(64, (3, 3), activation = 'relu'))\n",
    "reseau.add(MaxPooling2D(pool_size = (2, 2)))\n",
    "reseau.add(Conv2D(64, (3, 3), activation = 'relu'))\n",
    "reseau.add(MaxPooling2D(pool_size = (2, 2)))\n",
    "\n",
    "# 2. flatenning\n",
    "reseau.add(Flatten())\n",
    "\n",
    "# 3. fully connected\n",
    "from keras.layers import Dropout\n",
    "reseau.add(Dense(units = 64, activation = 'relu'))\n",
    "reseau.add(Dropout(0.1))\n",
    "reseau.add(Dense(units = 128, activation = 'relu'))\n",
    "reseau.add(Dropout(0.05))\n",
    "reseau.add(Dense(units = 256, activation = 'relu'))\n",
    "reseau.add(Dropout(0.03))\n",
    "reseau.add(Dense(units = 1, activation = 'sigmoid'))\n",
    "\n",
    "# 4. compile\n",
    "reseau.compile(optimizer = 'adam', loss = 'binary_crossentropy', metrics = ['accuracy'])\n",
    "\n",
    "# 5. fit\n",
    "reseau.fit_generator(training_set, steps_per_epoch = 16, epochs = 4,\n",
    "                     validation_data = test_set, validation_steps = 4)"
   ]
  },
  {
   "cell_type": "code",
   "execution_count": null,
   "metadata": {},
   "outputs": [],
   "source": []
  },
  {
   "cell_type": "code",
   "execution_count": null,
   "metadata": {},
   "outputs": [],
   "source": []
  }
 ],
 "metadata": {
  "kernelspec": {
   "display_name": "Python 3",
   "language": "python",
   "name": "python3"
  },
  "language_info": {
   "codemirror_mode": {
    "name": "ipython",
    "version": 3
   },
   "file_extension": ".py",
   "mimetype": "text/x-python",
   "name": "python",
   "nbconvert_exporter": "python",
   "pygments_lexer": "ipython3",
   "version": "3.7.3"
  }
 },
 "nbformat": 4,
 "nbformat_minor": 2
}
