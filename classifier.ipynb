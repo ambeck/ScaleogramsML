{
 "cells": [
  {
   "cell_type": "code",
   "execution_count": 11,
   "metadata": {},
   "outputs": [],
   "source": [
    "from keras.models import Sequential\n",
    "from keras.layers import Conv2D\n",
    "from keras.layers import MaxPooling2D\n",
    "from keras.layers import Flatten\n",
    "from keras.layers import Dense\n",
    "from sklearn.metrics import classification_report, confusion_matrix\n"
   ]
  },
  {
   "cell_type": "code",
   "execution_count": 12,
   "metadata": {},
   "outputs": [],
   "source": [
    "from keras.preprocessing.image import ImageDataGenerator"
   ]
  },
  {
   "cell_type": "code",
   "execution_count": 13,
   "metadata": {},
   "outputs": [],
   "source": [
    "train_datagen = ImageDataGenerator()\n",
    "\n",
    "test_datagen = ImageDataGenerator()"
   ]
  },
  {
   "cell_type": "code",
   "execution_count": 14,
   "metadata": {},
   "outputs": [
    {
     "name": "stdout",
     "output_type": "stream",
     "text": [
      "Found 12 images belonging to 2 classes.\n"
     ]
    }
   ],
   "source": [
    "#432 x 288\n",
    "#switched from 64x64\n",
    "\n",
    "training_set = train_datagen.flow_from_directory(\n",
    "                                            'data/compiled/train',\n",
    "                                            target_size = (256,256),\n",
    "                                            batch_size = 32,\n",
    "                                            class_mode = 'binary')"
   ]
  },
  {
   "cell_type": "code",
   "execution_count": 15,
   "metadata": {},
   "outputs": [
    {
     "name": "stdout",
     "output_type": "stream",
     "text": [
      "Found 3 images belonging to 2 classes.\n"
     ]
    }
   ],
   "source": [
    "test_set = test_datagen.flow_from_directory('data/compiled/test',\n",
    "                                            target_size = (256,256),\n",
    "                                            batch_size = 32,\n",
    "                                            class_mode = 'binary')"
   ]
  },
  {
   "cell_type": "code",
   "execution_count": 17,
   "metadata": {},
   "outputs": [
    {
     "name": "stdout",
     "output_type": "stream",
     "text": [
      "Epoch 1/4\n",
      "160/160 [==============================] - 386s 2s/step - loss: 0.1812 - acc: 0.9651 - val_loss: 10.1646 - val_acc: 0.0000e+00\n",
      "Epoch 2/4\n",
      "160/160 [==============================] - 383s 2s/step - loss: 1.7923 - acc: 0.8828 - val_loss: 5.3141 - val_acc: 0.6667\n",
      "Epoch 3/4\n",
      "160/160 [==============================] - 398s 2s/step - loss: 6.9255 - acc: 0.5661 - val_loss: 5.3141 - val_acc: 0.6667\n",
      "Epoch 4/4\n",
      "160/160 [==============================] - 384s 2s/step - loss: 6.7336 - acc: 0.5781 - val_loss: 5.3141 - val_acc: 0.6667\n"
     ]
    },
    {
     "ename": "NameError",
     "evalue": "name 'np' is not defined",
     "output_type": "error",
     "traceback": [
      "\u001b[0;31m---------------------------------------------------------------------------\u001b[0m",
      "\u001b[0;31mNameError\u001b[0m                                 Traceback (most recent call last)",
      "\u001b[0;32m<ipython-input-17-f37aab9b61d7>\u001b[0m in \u001b[0;36m<module>\u001b[0;34m\u001b[0m\n\u001b[1;32m     33\u001b[0m \u001b[0;34m\u001b[0m\u001b[0m\n\u001b[1;32m     34\u001b[0m \u001b[0mY_pred\u001b[0m \u001b[0;34m=\u001b[0m \u001b[0mreseau\u001b[0m\u001b[0;34m.\u001b[0m\u001b[0mpredict_generator\u001b[0m\u001b[0;34m(\u001b[0m\u001b[0mtest_set\u001b[0m\u001b[0;34m,\u001b[0m \u001b[0;36m3\u001b[0m \u001b[0;34m//\u001b[0m \u001b[0;36m33\u001b[0m\u001b[0;34m)\u001b[0m\u001b[0;34m\u001b[0m\u001b[0;34m\u001b[0m\u001b[0m\n\u001b[0;32m---> 35\u001b[0;31m \u001b[0my_pred\u001b[0m \u001b[0;34m=\u001b[0m \u001b[0mnp\u001b[0m\u001b[0;34m.\u001b[0m\u001b[0margmax\u001b[0m\u001b[0;34m(\u001b[0m\u001b[0mY_pred\u001b[0m\u001b[0;34m,\u001b[0m \u001b[0maxis\u001b[0m\u001b[0;34m=\u001b[0m\u001b[0;36m1\u001b[0m\u001b[0;34m)\u001b[0m\u001b[0;34m\u001b[0m\u001b[0;34m\u001b[0m\u001b[0m\n\u001b[0m\u001b[1;32m     36\u001b[0m \u001b[0mprint\u001b[0m\u001b[0;34m(\u001b[0m\u001b[0;34m'Confusion Matrix'\u001b[0m\u001b[0;34m)\u001b[0m\u001b[0;34m\u001b[0m\u001b[0;34m\u001b[0m\u001b[0m\n\u001b[1;32m     37\u001b[0m \u001b[0mprint\u001b[0m\u001b[0;34m(\u001b[0m\u001b[0mconfusion_matrix\u001b[0m\u001b[0;34m(\u001b[0m\u001b[0mtest_set\u001b[0m\u001b[0;34m.\u001b[0m\u001b[0mclasses\u001b[0m\u001b[0;34m,\u001b[0m \u001b[0my_pred\u001b[0m\u001b[0;34m)\u001b[0m\u001b[0;34m)\u001b[0m\u001b[0;34m\u001b[0m\u001b[0;34m\u001b[0m\u001b[0m\n",
      "\u001b[0;31mNameError\u001b[0m: name 'np' is not defined"
     ]
    }
   ],
   "source": [
    "reseau = Sequential()\n",
    "\n",
    "# 1. convolution\n",
    "reseau.add(Conv2D(32, (3, 3), input_shape = (256,256, 3), activation = 'relu'))\n",
    "reseau.add(MaxPooling2D(pool_size = (2, 2)))\n",
    "reseau.add(Conv2D(32, (3, 3), activation = 'relu'))\n",
    "reseau.add(MaxPooling2D(pool_size = (2, 2)))\n",
    "reseau.add(Conv2D(64, (3, 3), activation = 'relu'))\n",
    "reseau.add(MaxPooling2D(pool_size = (2, 2)))\n",
    "reseau.add(Conv2D(64, (3, 3), activation = 'relu'))\n",
    "reseau.add(MaxPooling2D(pool_size = (2, 2)))\n",
    "\n",
    "# 2. flatenning\n",
    "reseau.add(Flatten())\n",
    "\n",
    "# 3. fully connected\n",
    "from keras.layers import Dropout\n",
    "reseau.add(Dense(units = 64, activation = 'relu'))\n",
    "reseau.add(Dropout(0.1))\n",
    "reseau.add(Dense(units = 128, activation = 'relu'))\n",
    "reseau.add(Dropout(0.05))\n",
    "reseau.add(Dense(units = 256, activation = 'relu'))\n",
    "reseau.add(Dropout(0.03))\n",
    "reseau.add(Dense(units = 1, activation = 'sigmoid'))\n",
    "\n",
    "# 4. compile\n",
    "reseau.compile(optimizer = 'adam', loss = 'binary_crossentropy', metrics = ['accuracy'])\n",
    "\n",
    "# 5. fit\n",
    "reseau.fit_generator(training_set, steps_per_epoch = 160, epochs = 4,\n",
    "                     validation_data = test_set, validation_steps = 40)\n",
    "\n",
    "\n",
    "Y_pred = reseau.predict_generator(test_set, 3 // 33)\n",
    "y_pred = np.argmax(Y_pred, axis=1)\n",
    "print('Confusion Matrix')\n",
    "print(confusion_matrix(test_set.classes, y_pred))\n",
    "print('Classification Report')\n",
    "target_names = ['A', 'B']\n",
    "print(classification_report(test_set.classes, y_pred, target_names=target_names))"
   ]
  },
  {
   "cell_type": "code",
   "execution_count": null,
   "metadata": {},
   "outputs": [],
   "source": []
  },
  {
   "cell_type": "code",
   "execution_count": null,
   "metadata": {},
   "outputs": [],
   "source": []
  }
 ],
 "metadata": {
  "kernelspec": {
   "display_name": "Python 3",
   "language": "python",
   "name": "python3"
  },
  "language_info": {
   "codemirror_mode": {
    "name": "ipython",
    "version": 3
   },
   "file_extension": ".py",
   "mimetype": "text/x-python",
   "name": "python",
   "nbconvert_exporter": "python",
   "pygments_lexer": "ipython3",
   "version": "3.7.1"
  }
 },
 "nbformat": 4,
 "nbformat_minor": 2
}
